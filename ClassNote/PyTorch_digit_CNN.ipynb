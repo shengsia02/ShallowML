{
 "cells": [
  {
   "attachments": {},
   "cell_type": "markdown",
   "metadata": {},
   "source": [
    "**<font color=lightblue>PyTorch CNN on MNIST digits(input image is 28 x 28)</font>**\n",
    "\n",
    "<img title=\"a title\" alt=\"Alt text\" src=\"mnist.png\">\n",
    "\n",
    "Train based on Two different CNN setups:\n",
    "- Net1: zero-padding = 0, optimizer=SGD\n",
    "- Net2: zero-padding = 2, optimizer=Adam\n",
    "\n",
    "程式參考：PyTorch 官網範例，https://pytorch.org/tutorials/beginner/blitz/cifar10_tutorial.html"
   ]
  },
  {
   "cell_type": "markdown",
   "metadata": {},
   "source": [
    "參考卷積 convolution 的矩陣運算：http://www.songho.ca/dsp/convolution/convolution2d_example.html\n",
    "\n",
    "\n",
    "![Convolution](https://i.stack.imgur.com/9OZKF.gif)\n",
    "\n",
    "<font size = 3>[動畫來源](https://pub.towardsai.net/image-classification-with-neural-network-21a75cebb067)</font>"
   ]
  },
  {
   "attachments": {},
   "cell_type": "markdown",
   "metadata": {},
   "source": [
    "***<font color=khaki>Load and prepare data</font>***"
   ]
  },
  {
   "cell_type": "code",
   "execution_count": 1,
   "metadata": {},
   "outputs": [
    {
     "name": "stdout",
     "output_type": "stream",
     "text": [
      "X_train.shape: torch.Size([56000, 1, 28, 28])\n",
      "y_train.shape: torch.Size([56000])\n",
      "X_test.shape: torch.Size([14000, 1, 28, 28])\n",
      "y_test.shape: torch.Size([14000])\n"
     ]
    }
   ],
   "source": [
    "from sklearn.model_selection import train_test_split\n",
    "from sklearn.preprocessing import StandardScaler\n",
    "from sklearn.datasets import fetch_openml\n",
    "import torch\n",
    "from torch.utils.data import TensorDataset\n",
    "from torch.utils.data import DataLoader\n",
    "import pickle\n",
    "import os\n",
    "import numpy as np\n",
    "\n",
    "# from scipy.io import loadmat\n",
    "# mnist = loadmat(\"data/mnist-original.mat\")\n",
    "# X = mnist[\"data\"].T # 70000 x 784\n",
    "# y = mnist[\"label\"][0]\n",
    "\n",
    "data_file = r'D:\\ys\\B4_ShallowML\\ShallowML\\ClassData\\mnist_digits_784.pkl'\n",
    "# Check if data file exists\n",
    "if os.path.isfile(data_file):\n",
    "    # Load data from file\n",
    "    with open(data_file, 'rb') as f:\n",
    "        data = pickle.load(f)\n",
    "else:\n",
    "    # Fetch data from internet\n",
    "    data = fetch_openml('mnist_784', version=1, parser='auto')\n",
    "    # Save data to file\n",
    "    with open(data_file, 'wb') as f:\n",
    "        pickle.dump(data, f)\n",
    "\n",
    "X, y = np.array(data.data), np.array(data.target).astype('int')\n",
    "\n",
    "\n",
    "test_size = 0.2\n",
    "X_train, X_test, y_train, y_test = train_test_split(X, y, test_size=test_size) # deafult test_size=0.25\n",
    "\n",
    "# standaredize (may not be necessary)（因為影像處理有自己的標準化，所以 Z score 不適合）\n",
    "scaler = StandardScaler()\n",
    "X_train = scaler.fit_transform(X_train)\n",
    "X_test = scaler.fit_transform(X_test)\n",
    "\n",
    "# convert to tensors\n",
    "X_train = torch.from_numpy(X_train).float()\n",
    "y_train = torch.from_numpy(y_train).long()\n",
    "X_train = X_train.reshape(-1, 1, 28, 28) # convert to N x 1 x 28 x 28 for CNN\n",
    "X_test = torch.from_numpy(X_test).float()\n",
    "y_test = torch.from_numpy(y_test).long()\n",
    "X_test = X_test.reshape(-1, 1, 28, 28) # N x 1 x 28 x 28\n",
    "\n",
    "# check shapes of data\n",
    "print(\"X_train.shape:\", X_train.shape)\n",
    "print(\"y_train.shape:\", y_train.shape)\n",
    "print(\"X_test.shape:\", X_test.shape)\n",
    "print(\"y_test.shape:\", y_test.shape)\n",
    "\n",
    "# create dataloaders\n",
    "train_dataset = TensorDataset(X_train, y_train)\n",
    "test_dataset = TensorDataset(X_test, y_test)\n",
    "batch_size = 128\n",
    "train_loader = DataLoader(train_dataset, batch_size=batch_size, shuffle=True)\n",
    "test_loader = DataLoader(test_dataset, batch_size=batch_size, shuffle=False)\n"
   ]
  },
  {
   "attachments": {},
   "cell_type": "markdown",
   "metadata": {},
   "source": [
    "*<font color=khaki>Define the network</font>*"
   ]
  },
  {
   "cell_type": "code",
   "execution_count": 4,
   "metadata": {},
   "outputs": [
    {
     "name": "stdout",
     "output_type": "stream",
     "text": [
      "Using cpu device\n",
      "Net(\n",
      "  (conv1): Conv2d(1, 6, kernel_size=(5, 5), stride=(1, 1))\n",
      "  (conv2): Conv2d(6, 16, kernel_size=(5, 5), stride=(1, 1))\n",
      "  (fc1): Linear(in_features=256, out_features=120, bias=True)\n",
      "  (fc2): Linear(in_features=120, out_features=84, bias=True)\n",
      "  (fc3): Linear(in_features=84, out_features=10, bias=True)\n",
      ")\n"
     ]
    }
   ],
   "source": [
    "import torch\n",
    "import torch.nn as nn\n",
    "import torch.nn.functional as F\n",
    "\n",
    "class Net(nn.Module):\n",
    "\n",
    "    def __init__(self):\n",
    "        super(Net, self).__init__()\n",
    "        \n",
    "        self.conv1 = nn.Conv2d(1, 6, 5) # 1 input channel, 6 output channels, 5x5 square convolution\n",
    "        self.conv2 = nn.Conv2d(6, 16, 5) # 6 input channel, 16 output channels, 5x5 square convolution\n",
    "        # an affine operation: y = Wx + b\n",
    "        self.fc1 = nn.Linear(16 * 4 * 4, 120)  # 4*4 from image dimension \n",
    "        self.fc2 = nn.Linear(120, 84)\n",
    "        self.fc3 = nn.Linear(84, 10) # 10 output classes\n",
    "\n",
    "    def forward(self, x):\n",
    "        \n",
    "        x = F.max_pool2d(F.relu(self.conv1(x)), (2, 2)) # Max pooling over a (2, 2) window\n",
    "        # If the size is a square, you can specify with a single number\n",
    "        x = F.max_pool2d(F.relu(self.conv2(x)), 2)\n",
    "        x = torch.flatten(x, 1) # flatten all dimensions except the batch dimension\n",
    "        x = F.relu(self.fc1(x))\n",
    "        x = F.relu(self.fc2(x))\n",
    "        x = self.fc3(x)\n",
    "        return x\n",
    "\n",
    "\n",
    "device = \"cuda:0\" if torch.cuda.is_available() else \"cpu\"\n",
    "print(\"Using {} device\".format(device))\n",
    "\n",
    "net = Net().to(device)\n",
    "print(net)"
   ]
  },
  {
   "cell_type": "markdown",
   "metadata": {},
   "source": [
    "*<font color=blue>Use Torch Summary to see the details</font>*"
   ]
  },
  {
   "cell_type": "code",
   "execution_count": 5,
   "metadata": {},
   "outputs": [
    {
     "name": "stdout",
     "output_type": "stream",
     "text": [
      "----------------------------------------------------------------\n",
      "        Layer (type)               Output Shape         Param #\n",
      "================================================================\n",
      "            Conv2d-1            [-1, 6, 24, 24]             156\n",
      "            Conv2d-2             [-1, 16, 8, 8]           2,416\n",
      "            Linear-3                  [-1, 120]          30,840\n",
      "            Linear-4                   [-1, 84]          10,164\n",
      "            Linear-5                   [-1, 10]             850\n",
      "================================================================\n",
      "Total params: 44,426\n",
      "Trainable params: 44,426\n",
      "Non-trainable params: 0\n",
      "----------------------------------------------------------------\n",
      "Input size (MB): 0.00\n",
      "Forward/backward pass size (MB): 0.04\n",
      "Params size (MB): 0.17\n",
      "Estimated Total Size (MB): 0.21\n",
      "----------------------------------------------------------------\n"
     ]
    }
   ],
   "source": [
    "from torchsummary import summary\n",
    "\n",
    "summary(net, input_size=(1, 28, 28))"
   ]
  },
  {
   "attachments": {},
   "cell_type": "markdown",
   "metadata": {},
   "source": [
    "*<font color=khaki>Test to see the layer output for various settings</font>*"
   ]
  },
  {
   "cell_type": "code",
   "execution_count": 6,
   "metadata": {},
   "outputs": [
    {
     "name": "stdout",
     "output_type": "stream",
     "text": [
      "torch.Size([128, 6, 24, 24])\n",
      "torch.Size([128, 6, 12, 12])\n",
      "torch.Size([128, 16, 8, 8])\n",
      "torch.Size([128, 16, 4, 4])\n",
      "torch.Size([128, 256])\n",
      "torch.Size([128, 120])\n",
      "torch.Size([128, 84])\n",
      "torch.Size([128, 10])\n",
      "tensor([-0.0762, -0.1585, -0.0709,  0.1820, -0.1138, -0.0288,  0.0477,  0.0008,\n",
      "         0.0173,  0.0958], grad_fn=<SliceBackward0>)\n"
     ]
    }
   ],
   "source": [
    "inData = torch.randn(128, 1, 28, 28) # sumulate 128 random 28 x 28 images with 1 channel\n",
    "\n",
    "# layer 1\n",
    "m = nn.Conv2d(1, 6, 5, stride=1, padding=0)\n",
    "outData = m(inData)\n",
    "print(outData.shape)\n",
    "outData = F.max_pool2d(F.relu(outData), (2, 2))\n",
    "print(outData.shape)\n",
    "\n",
    "# layer 2\n",
    "m = nn.Conv2d(6, 16, 5, stride=1)\n",
    "outData = m(outData)\n",
    "print(outData.shape)\n",
    "outData = F.max_pool2d(F.relu(outData), 2)\n",
    "print(outData.shape)\n",
    "\n",
    "# start to enetr the NN part\n",
    "outData = torch.flatten(outData, 1)\n",
    "print(outData.shape)\n",
    "\n",
    "m = nn.Linear(16 * 4 * 4, 120)\n",
    "outData = m(outData)\n",
    "print(outData.shape)\n",
    "\n",
    "m = nn.Linear(120, 84)\n",
    "outData = m(outData)\n",
    "print(outData.shape)\n",
    "\n",
    "m = nn.Linear(84, 10)\n",
    "outData = m(outData)\n",
    "print(outData.shape)\n",
    "# check the output\n",
    "print(outData[1,:])\n"
   ]
  },
  {
   "attachments": {},
   "cell_type": "markdown",
   "metadata": {},
   "source": [
    "*<font color=khaki>Take a look at the training image dataset</font>*"
   ]
  },
  {
   "cell_type": "code",
   "execution_count": 12,
   "metadata": {},
   "outputs": [
    {
     "name": "stdout",
     "output_type": "stream",
     "text": [
      "torch.Size([1, 28, 28])\n",
      "tensor(4)\n",
      "torch.Size([1, 28, 28])\n",
      "(1, 10)\n",
      "tensor([[-0.0614, -0.0517,  0.1202, -0.0413, -0.0085,  0.0566,  0.0021,  0.1098,\n",
      "          0.0536,  0.1566]])\n",
      "tensor([[9]])\n",
      "[[-0.06136236 -0.05167704  0.12021585 -0.04127766 -0.00851816  0.05659489\n",
      "   0.00213648  0.10978896  0.05360325  0.15657225]]\n"
     ]
    },
    {
     "data": {
      "image/png": "[encoded data removed]",
      "text/plain": [
       "<Figure size 640x480 with 1 Axes>"
      ]
     },
     "metadata": {},
     "output_type": "display_data"
    },
    {
     "name": "stdout",
     "output_type": "stream",
     "text": [
      "torch.Size([128, 1, 28, 28])\n"
     ]
    },
    {
     "data": {
      "image/png": "[encoded data removed]",
      "text/plain": [
       "<Figure size 640x480 with 1 Axes>"
      ]
     },
     "metadata": {},
     "output_type": "display_data"
    },
    {
     "name": "stderr",
     "output_type": "stream",
     "text": [
      "Clipping input data to the valid range for imshow with RGB data ([0..1] for floats or [0..255] for integers). Got range [-1.2800663..46.68669].\n"
     ]
    },
    {
     "data": {
      "image/png": "[encoded data removed]",
      "text/plain": [
       "<Figure size 640x480 with 1 Axes>"
      ]
     },
     "metadata": {},
     "output_type": "display_data"
    }
   ],
   "source": [
    "import matplotlib.pyplot as plt\n",
    "import numpy as np\n",
    "import torchvision\n",
    "\n",
    "print(train_dataset[0][0].shape) # the shape of the first image\n",
    "print(train_dataset[0][1]) # the label of the first image\n",
    "print(X_train[0].shape) # the shape of the first image\n",
    "inData = train_dataset[0][0].reshape(1, 1, 28, 28) # send the first image to the network\n",
    "# inData = X_train[0].reshape(1, 1, 28, 28) # send the first image to the network\n",
    "outData = net(inData.to(device))\n",
    "print(outData.to(\"cpu\").detach().numpy().shape) # the output shape of the first image\n",
    "print(outData.data) # the output of the first image\n",
    "print(outData.data.max(1, keepdim=True)[1]) # the position of the maximum value\n",
    "print(outData.to(\"cpu\").detach().numpy()) # convert the output to numpy array\n",
    "# See the output of the first image\n",
    "npimg = train_dataset[0][0] # the first image\n",
    "plt.imshow(np.transpose(npimg, (1, 2, 0)), cmap='gray') # convert the image to numpy array and show it\n",
    "plt.show()\n",
    "\n",
    "# get some random training images\n",
    "dataiter = iter(train_loader) # an iterable object\n",
    "images, labels = next(dataiter) # get the next batch\n",
    "print(images.shape) # the shape of the batch\n",
    "\n",
    "# show a single image\n",
    "a_image = images[0]\n",
    "a_image_ = np.transpose(a_image, (1, 2, 0))\n",
    "plt.imshow(a_image_, cmap='gray')\n",
    "plt.show()\n",
    "\n",
    "# show a grid of images\n",
    "montage = torchvision.utils.make_grid(images, nrow=16) # make a grid of images with 16 images per row\n",
    "plt.imshow(np.transpose(montage, (1, 2, 0)), cmap='gray')\n",
    "plt.show()\n",
    "\n",
    "# from torch.utils.tensorboard import SummaryWriter\n",
    "# writer = SummaryWriter()\n",
    "# writer.add_graph(net, images.to(device))\n",
    "# writer.close()"
   ]
  },
  {
   "attachments": {},
   "cell_type": "markdown",
   "metadata": {},
   "source": [
    "*<font color=blue>Define a Loss function and optimizer</font>*\n",
    "\n",
    "Let's use a Classification Cross-Entropy loss and SGD with momentum.\n",
    "\n"
   ]
  },
  {
   "cell_type": "code",
   "execution_count": 13,
   "metadata": {},
   "outputs": [],
   "source": [
    "import torch.optim as optim\n",
    "\n",
    "criterion = nn.CrossEntropyLoss()\n",
    "optimizer = optim.SGD(net.parameters(), lr=0.001, momentum=0.9)\n",
    "# optimizer = optim.Adam(net2.parameters(), lr = 0.01) "
   ]
  },
  {
   "attachments": {},
   "cell_type": "markdown",
   "metadata": {},
   "source": [
    "*<font color=blue>Train the network</font>*"
   ]
  },
  {
   "cell_type": "code",
   "execution_count": 14,
   "metadata": {},
   "outputs": [
    {
     "name": "stdout",
     "output_type": "stream",
     "text": [
      "[epoch : 1, batch:   200] loss: 2.290\n",
      "[epoch : 1, batch:   400] loss: 2.219\n",
      "Finished Training\n",
      "torch.Size([64, 10])\n",
      "torch.Size([64])\n"
     ]
    }
   ],
   "source": [
    "# from torch.utils.tensorboard import SummaryWriter\n",
    "# writer = SummaryWriter()\n",
    "epochs = 1\n",
    "for epoch in range(epochs):  # loop over the dataset multiple times\n",
    "\n",
    "    running_loss = 0.0\n",
    "    for i, data in enumerate(train_loader, 0):\n",
    "        # get the inputs; data is a list of [inputs, labels]\n",
    "        inputs, labels = data[0].to(device), data[1].to(device) # move to GPU if available\n",
    "    \n",
    "        # zero the parameter gradients\n",
    "        optimizer.zero_grad()\n",
    "        # forward + backward + optimize\n",
    "        outputs = net(inputs) # forward pass\n",
    "        loss = criterion(outputs, labels) # compute loss\n",
    "        # writer.add_scalar(\"Loss/train\", loss, epoch)\n",
    "        loss.backward() # compute gradients\n",
    "        optimizer.step() # update weights\n",
    "\n",
    "        # print statistics\n",
    "        running_loss += loss.item()\n",
    "        if i % 200 == 199:    # print every 200 mini-batches\n",
    "            print(f'[epoch : {epoch + 1}, batch: {i + 1:5d}] loss: {running_loss / 200:.3f}')\n",
    "            running_loss = 0.0\n",
    "\n",
    "print('Finished Training')\n",
    "print(outputs.shape)\n",
    "print(labels.shape)\n",
    "# writer.flush()"
   ]
  },
  {
   "attachments": {},
   "cell_type": "markdown",
   "metadata": {},
   "source": [
    "*<font color=blue>save our trained model for later use</font>*\n",
    "\n",
    "做為再次訓練的起點或訓練完成後的使用狀態。\n",
    "\n",
    "A .pth file in the context of PyTorch is a model checkpoint file that contains the learned weights of a trained neural network. The .pth extension stands for \"PyTorch\", indicating that the file is specifically meant to be loaded with PyTorch."
   ]
  },
  {
   "cell_type": "code",
   "execution_count": 16,
   "metadata": {},
   "outputs": [],
   "source": [
    "PATH = './digit10_net.pt' # .pth will collide with the PyTorch JIT\n",
    "torch.save(net.state_dict(), PATH)"
   ]
  },
  {
   "cell_type": "code",
   "execution_count": 15,
   "metadata": {},
   "outputs": [
    {
     "name": "stdout",
     "output_type": "stream",
     "text": [
      "odict_keys(['conv1.weight', 'conv1.bias', 'conv2.weight', 'conv2.bias', 'fc1.weight', 'fc1.bias', 'fc2.weight', 'fc2.bias', 'fc3.weight', 'fc3.bias'])\n"
     ]
    }
   ],
   "source": [
    "print(net.state_dict().keys())"
   ]
  },
  {
   "attachments": {},
   "cell_type": "markdown",
   "metadata": {},
   "source": [
    "*<font color=blue>Test the network on the test data</font>*"
   ]
  },
  {
   "cell_type": "code",
   "execution_count": 17,
   "metadata": {},
   "outputs": [
    {
     "name": "stdout",
     "output_type": "stream",
     "text": [
      "Accuracy of the network on the 14000 test images: 54 %\n"
     ]
    }
   ],
   "source": [
    "correct = 0\n",
    "total = 0\n",
    "# since we're not training, we don't need to calculate the gradients for our outputs\n",
    "with torch.no_grad(): # deactivate autograd engine\n",
    "    for data in test_loader:\n",
    "        images, labels = data[0].to(device), data[1].to(device)\n",
    "        # calculate outputs by running images through the network\n",
    "        outputs = net(images)\n",
    "        # the class with the highest energy is what we choose as prediction\n",
    "        _, predicted = torch.max(outputs.data, 1) # get the position of the maximum value\n",
    "        total += labels.size(0)\n",
    "        correct += (predicted == labels).sum().item()\n",
    "\n",
    "print(f'Accuracy of the network on the {len(test_dataset)} test images: {100 * correct // total} %')"
   ]
  },
  {
   "attachments": {},
   "cell_type": "markdown",
   "metadata": {},
   "source": [
    "*<font color=blue>Test on a random batch</font>*"
   ]
  },
  {
   "cell_type": "code",
   "execution_count": 18,
   "metadata": {},
   "outputs": [
    {
     "name": "stderr",
     "output_type": "stream",
     "text": [
      "Clipping input data to the valid range for imshow with RGB data ([0..1] for floats or [0..255] for integers). Got range [-1.273984..43.06403].\n"
     ]
    },
    {
     "data": {
      "image/png": "[encoded data removed]",
      "text/plain": [
       "<Figure size 640x480 with 1 Axes>"
      ]
     },
     "metadata": {},
     "output_type": "display_data"
    },
    {
     "name": "stdout",
     "output_type": "stream",
     "text": [
      "The predictions:\n",
      " {tensor([[4, 6, 7, 7, 4, 6, 6, 6, 7, 4, 4, 8, 8, 3, 4, 7],\n",
      "        [8, 2, 1, 7, 1, 3, 6, 6, 2, 7, 4, 1, 2, 7, 4, 3],\n",
      "        [8, 1, 1, 6, 6, 0, 6, 4, 3, 8, 1, 3, 7, 1, 0, 6],\n",
      "        [6, 6, 2, 1, 6, 7, 1, 1, 3, 1, 4, 3, 2, 0, 2, 7],\n",
      "        [8, 7, 8, 7, 1, 7, 6, 1, 3, 7, 7, 7, 1, 4, 6, 4],\n",
      "        [0, 8, 1, 3, 9, 6, 7, 1, 0, 6, 6, 6, 2, 3, 3, 3],\n",
      "        [6, 0, 6, 6, 6, 2, 0, 7, 4, 1, 4, 2, 0, 6, 1, 7],\n",
      "        [0, 0, 0, 8, 6, 1, 6, 3, 0, 4, 6, 1, 6, 4, 7, 1]])}\n",
      "Accuracy of the network on the 128 test images: 55.46875 %\n"
     ]
    }
   ],
   "source": [
    "import torchvision\n",
    "import matplotlib.pyplot as plt\n",
    "import numpy as np\n",
    "\n",
    "sample_idx = torch.randint(len(test_loader), size=(1,)).item()\n",
    "dataiter = iter(test_loader)\n",
    "for i in range(sample_idx): # randomly select a batch\n",
    "    images, labels = next(dataiter)\n",
    "\n",
    "# print test images\n",
    "nrow = 16 # number of images per row\n",
    "montage = torchvision.utils.make_grid(images, nrow=nrow)\n",
    "plt.imshow(np.transpose(montage, (1, 2, 0)), cmap='gray')\n",
    "plt.xticks([]) # remove x-axis ticks\n",
    "plt.yticks([]) # remove y-axis ticks\n",
    "plt.show()\n",
    "\n",
    "# predict the labels\n",
    "outputs = net(images.to(device))\n",
    "_, predicted = torch.max(outputs, 1)\n",
    "print(\"The predictions:\\n\", {predicted.reshape(batch_size // nrow, nrow)})\n",
    "\n",
    "total = labels.size(0)\n",
    "correct_rate = (predicted == labels.to(device)).sum().item() / total\n",
    "print(f'Accuracy of the network on the {len(labels)} test images: {100 * correct_rate} %')\n"
   ]
  },
  {
   "attachments": {},
   "cell_type": "markdown",
   "metadata": {},
   "source": [
    "<hr>\n",
    "\n",
    "**<font color=sjyblue>Train data by using Net2</font>**\n",
    "\n",
    "Net2 is from https://medium.com/@nutanbhogendrasharma/pytorch-convolutional-neural-network-with-mnist-dataset-4e8a4265e118"
   ]
  },
  {
   "cell_type": "code",
   "execution_count": 19,
   "metadata": {},
   "outputs": [
    {
     "name": "stdout",
     "output_type": "stream",
     "text": [
      "Using cpu device\n",
      "Net2(\n",
      "  (conv1): Sequential(\n",
      "    (0): Conv2d(1, 16, kernel_size=(5, 5), stride=(1, 1), padding=(2, 2))\n",
      "    (1): ReLU()\n",
      "    (2): MaxPool2d(kernel_size=2, stride=2, padding=0, dilation=1, ceil_mode=False)\n",
      "  )\n",
      "  (conv2): Sequential(\n",
      "    (0): Conv2d(16, 32, kernel_size=(5, 5), stride=(1, 1), padding=(2, 2))\n",
      "    (1): ReLU()\n",
      "    (2): MaxPool2d(kernel_size=2, stride=2, padding=0, dilation=1, ceil_mode=False)\n",
      "  )\n",
      "  (out): Linear(in_features=1568, out_features=10, bias=True)\n",
      ")\n"
     ]
    }
   ],
   "source": [
    "# Another way to define the network: borrow from https://medium.com/@nutanbhogendrasharma/pytorch-convolutional-neural-network-with-mnist-dataset-4e8a4265e118\n",
    "class Net2(nn.Module):\n",
    "    def __init__(self):\n",
    "        super(Net2, self).__init__()\n",
    "        self.conv1 = nn.Sequential(         \n",
    "            nn.Conv2d(\n",
    "                in_channels=1,              \n",
    "                out_channels=16,            \n",
    "                kernel_size=5,              \n",
    "                stride=1,                   \n",
    "                padding=2,                  \n",
    "            ),                              \n",
    "            nn.ReLU(),                      \n",
    "            nn.MaxPool2d(kernel_size=2),    \n",
    "        )\n",
    "        self.conv2 = nn.Sequential(         \n",
    "            nn.Conv2d(16, 32, 5, 1, 2),     \n",
    "            nn.ReLU(),                      \n",
    "            nn.MaxPool2d(2),                \n",
    "        )\n",
    "        # fully connected layer, output 10 classes\n",
    "        self.out = nn.Linear(32 * 7 * 7, 10) # 32 * 7 * 7 is the size of the output of conv2\n",
    "    def forward(self, x):\n",
    "        x = self.conv1(x)\n",
    "        x = self.conv2(x)\n",
    "        # flatten the output of conv2 to (batch_size, 32 * 7 * 7)\n",
    "        x = x.view(x.size(0), -1) # another way to flatten       \n",
    "        output = self.out(x)\n",
    "        return output, x    # return x for visualization\n",
    "\n",
    "device = \"cuda:0\" if torch.cuda.is_available() else \"cpu\"\n",
    "print(\"Using {} device\".format(device))\n",
    "\n",
    "net2 = Net2().to(device)\n",
    "print(net2)"
   ]
  },
  {
   "attachments": {},
   "cell_type": "markdown",
   "metadata": {},
   "source": [
    "*<font color=blue>Set up Loss function and optimizer</font>*"
   ]
  },
  {
   "cell_type": "code",
   "execution_count": 20,
   "metadata": {},
   "outputs": [],
   "source": [
    "loss_func = nn.CrossEntropyLoss()\n",
    "optimizer = optim.Adam(net2.parameters(), lr = 0.01)"
   ]
  },
  {
   "attachments": {},
   "cell_type": "markdown",
   "metadata": {},
   "source": [
    "*<font color=blue>Start training</font>*"
   ]
  },
  {
   "cell_type": "code",
   "execution_count": 21,
   "metadata": {},
   "outputs": [
    {
     "name": "stdout",
     "output_type": "stream",
     "text": [
      "Epoch [1/15], Step [200/438], Loss: 0.1317\n",
      "Epoch [1/15], Step [400/438], Loss: 0.1225\n",
      "Epoch [2/15], Step [200/438], Loss: 0.0449\n",
      "Epoch [2/15], Step [400/438], Loss: 0.0717\n",
      "Epoch [3/15], Step [200/438], Loss: 0.0447\n",
      "Epoch [3/15], Step [400/438], Loss: 0.0384\n",
      "Epoch [4/15], Step [200/438], Loss: 0.0134\n",
      "Epoch [4/15], Step [400/438], Loss: 0.0690\n",
      "Epoch [5/15], Step [200/438], Loss: 0.0447\n",
      "Epoch [5/15], Step [400/438], Loss: 0.0891\n",
      "Epoch [6/15], Step [200/438], Loss: 0.0089\n",
      "Epoch [6/15], Step [400/438], Loss: 0.1858\n",
      "Epoch [7/15], Step [200/438], Loss: 0.0348\n",
      "Epoch [7/15], Step [400/438], Loss: 0.0584\n",
      "Epoch [8/15], Step [200/438], Loss: 0.0158\n",
      "Epoch [8/15], Step [400/438], Loss: 0.0948\n",
      "Epoch [9/15], Step [200/438], Loss: 0.0196\n",
      "Epoch [9/15], Step [400/438], Loss: 0.0954\n",
      "Epoch [10/15], Step [200/438], Loss: 0.0426\n",
      "Epoch [10/15], Step [400/438], Loss: 0.0697\n",
      "Epoch [11/15], Step [200/438], Loss: 0.1321\n",
      "Epoch [11/15], Step [400/438], Loss: 0.0729\n",
      "Epoch [12/15], Step [200/438], Loss: 0.0364\n",
      "Epoch [12/15], Step [400/438], Loss: 0.0118\n",
      "Epoch [13/15], Step [200/438], Loss: 0.0609\n",
      "Epoch [13/15], Step [400/438], Loss: 0.0950\n",
      "Epoch [14/15], Step [200/438], Loss: 0.0615\n",
      "Epoch [14/15], Step [400/438], Loss: 0.0986\n",
      "Epoch [15/15], Step [200/438], Loss: 0.1051\n",
      "Epoch [15/15], Step [400/438], Loss: 0.0394\n"
     ]
    }
   ],
   "source": [
    "from torch.autograd import Variable # deprecated in PyTorch 0.4.0\n",
    "\n",
    "num_epochs = 15\n",
    "def train(num_epochs, cnn, loaders):\n",
    "    \n",
    "    cnn.train()\n",
    "        \n",
    "    # Train the model\n",
    "    total_step = len(loaders)\n",
    "        \n",
    "    for epoch in range(num_epochs):\n",
    "        for i, (images, labels) in enumerate(loaders):\n",
    "            \n",
    "            # gives batch data, normalize x when iterate train_loader\n",
    "            # b_x = Variable(images.to(device))   # batch x\n",
    "            # b_y = Variable(labels.to(device))   # batch y\n",
    "            b_x = images.to(device)   # batch x\n",
    "            b_y = labels.to(device)   # batch y\n",
    "            output = cnn(b_x)[0] # cnn output: get the first element of the returned tuple\n",
    "                       \n",
    "            loss = loss_func(output, b_y)\n",
    "            \n",
    "            # clear gradients for this training step   \n",
    "            optimizer.zero_grad()           \n",
    "            \n",
    "            # backpropagation, compute gradients \n",
    "            loss.backward()    \n",
    "            # apply gradients             \n",
    "            optimizer.step()                \n",
    "            \n",
    "            if (i+1) % 200 == 0:\n",
    "                print ('Epoch [{}/{}], Step [{}/{}], Loss: {:.4f}' \n",
    "                       .format(epoch + 1, num_epochs, i + 1, total_step, loss.item()))\n",
    "                pass\n",
    "        \n",
    "        pass\n",
    "    \n",
    "    pass\n",
    "\n",
    "train(num_epochs, net2, train_loader)"
   ]
  },
  {
   "attachments": {},
   "cell_type": "markdown",
   "metadata": {},
   "source": [
    "*<font color=blue>Evaluate the model on test data</font>*"
   ]
  },
  {
   "cell_type": "code",
   "execution_count": 23,
   "metadata": {},
   "outputs": [
    {
     "name": "stdout",
     "output_type": "stream",
     "text": [
      "Test Accuracy of the model on the 14000 test images: 0.98\n"
     ]
    }
   ],
   "source": [
    "def test():\n",
    "    # Test the model\n",
    "    net2.eval()\n",
    "    with torch.no_grad():\n",
    "        correct = 0\n",
    "        total = 0\n",
    "        for images, labels in test_loader:\n",
    "            test_output, last_layer = net2(images.to(device))\n",
    "            pred_y = torch.max(test_output, 1)[1]\n",
    "            correct += (pred_y == labels.to(device)).sum().item()\n",
    "            total += labels.size(0)\n",
    "            # accuracy = (pred_y == labels.to(device)).sum().item() / float(labels.size(0))\n",
    "            pass\n",
    "    accuracy = correct / total\n",
    "    print(f'Test Accuracy of the model on the {len(test_dataset)} test images: %.2f' % accuracy)\n",
    "    \n",
    "    pass\n",
    "test()"
   ]
  },
  {
   "attachments": {},
   "cell_type": "markdown",
   "metadata": {},
   "source": [
    "*<font color=blue>Print 10 predictions from test data</font>*"
   ]
  },
  {
   "cell_type": "code",
   "execution_count": 24,
   "metadata": {},
   "outputs": [
    {
     "name": "stdout",
     "output_type": "stream",
     "text": [
      "Ground truth:\n",
      " [4 3 7 6 5 2 2 1 8 9]\n",
      "Prediction:\n",
      " [4 3 7 6 5 2 2 1 8 9]\n"
     ]
    }
   ],
   "source": [
    "sample = next(iter(test_loader))\n",
    "imgs, lbls = sample\n",
    "ground_truth = lbls[:10].numpy()\n",
    "print(\"Ground truth:\\n\", ground_truth)\n",
    "\n",
    "test_output, last_layer = net2(imgs[:10].to(device))\n",
    "pred_y = torch.max(test_output, 1)[1]\n",
    "# pred_y = torch.max(test_output, 1)[1].data.squeeze()\n",
    "# print(\"Prediction:\\n\", pred_y)\n",
    "print(\"Prediction:\\n\", pred_y.cpu().numpy())\n",
    "# q: how to convert pred_y to numpy array?\n",
    "# a: pred_y.cpu().numpy()\n"
   ]
  },
  {
   "cell_type": "code",
   "execution_count": 25,
   "metadata": {},
   "outputs": [
    {
     "name": "stdout",
     "output_type": "stream",
     "text": [
      "tensor([27.7645, 11.0372, 10.5686, 26.6832,  7.9868, 24.7876, 28.6644, 20.2150,\n",
      "        21.3706, 18.3613], grad_fn=<MaxBackward0>)\n",
      "tensor([4, 3, 7, 6, 5, 2, 2, 1, 8, 9])\n",
      "tensor([4, 3, 7, 6, 5, 2, 2, 1, 8, 9])\n",
      "tensor([4, 3, 7, 6, 5, 2, 2, 1, 8, 9])\n",
      "tensor([4, 3, 7, 6, 5, 2, 2, 1, 8, 9])\n"
     ]
    }
   ],
   "source": [
    "a = torch.max(test_output, 1)\n",
    "print(a[0])\n",
    "print(a[1])\n",
    "print(a[1].data)\n",
    "print(a[1].data.squeeze())\n",
    "print(a[1].data.squeeze().cpu())"
   ]
  }
 ],
 "metadata": {
  "kernelspec": {
   "display_name": "ShallowML",
   "language": "python",
   "name": "python3"
  },
  "language_info": {
   "codemirror_mode": {
    "name": "ipython",
    "version": 3
   },
   "file_extension": ".py",
   "mimetype": "text/x-python",
   "name": "python",
   "nbconvert_exporter": "python",
   "pygments_lexer": "ipython3",
   "version": "3.11.3"
  },
  "orig_nbformat": 4
 },
 "nbformat": 4,
 "nbformat_minor": 2
}
