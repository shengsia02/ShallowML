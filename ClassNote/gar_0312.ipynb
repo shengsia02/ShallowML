{
 "cells": [
  {
   "cell_type": "code",
   "execution_count": null,
   "metadata": {},
   "outputs": [],
   "source": [
    "from sklearn.datasets import fetch_openml\n",
    "import numpy as np\n",
    "import pickle\n",
    "import os\n",
    "\n",
    "data_file = 'data/mnist_digits_784.pkl'\n",
    "# Check if data file exists\n",
    "if os.path.isfile(data_file):\n",
    "    # Load data from file\n",
    "    with open(data_file, 'rb') as f:\n",
    "        data = pickle.load(f)\n",
    "else:\n",
    "    # Fetch data from internet\n",
    "    data = fetch_openml('mnist_784', version=1, parser='auto')\n",
    "    # Save data to file\n",
    "    with open(data_file, 'wb') as f:\n",
    "        pickle.dump(data, f)\n",
    "# Print the keys\n",
    "print(data.keys())\n",
    "# Print the shape of the data\n",
    "print(data.data.shape)\n",
    "print(data.target.shape)\n",
    "\n",
    "# description of the data\n",
    "print(data.DESCR)\n",
    "\n",
    "# Print the unique labels\n",
    "print(np.unique(data.target))\n",
    "# Print the first few data points\n",
    "print(data.data[:5])\n",
    "# Extract data and labels\n",
    "X, y = np.array(data.data).T, np.array(data.target).astype('int')\n",
    "# Split data into training and test sets\n",
    "# X_train, X_test = data.data[:60000], data.data[60000:]\n",
    "# y_train, y_test = data.target[:60000], data.target[60000:]"
   ]
  },
  {
   "cell_type": "code",
   "execution_count": null,
   "metadata": {},
   "outputs": [],
   "source": [
    "# ---------------------------------------\n",
    "def montage(A, m, n):\n",
    "    '''\n",
    "    Create a montage matrix with mn images\n",
    "    Inputs:\n",
    "    A: original pxN image matrix with N images (p pixels), N > mn\n",
    "    m, n: m rows & n columns, total mn images\n",
    "    Output:\n",
    "    M: montage matrix containing mn images\n",
    "    '''\n",
    "    \n",
    "    sz = np.sqrt(A.shape[0]).astype('int') # image size sz x sz\n",
    "    M = np.zeros((m*sz, n*sz)) # montage image\n",
    "    \n",
    "    for i in range(m) :\n",
    "        for j in range(n) :\n",
    "            M[i*sz: (i+1)*sz, j*sz:(j+1)*sz] = \\\n",
    "                A[:, i*n+j].reshape(sz, sz)\n",
    "\n",
    "    return M"
   ]
  },
  {
   "cell_type": "code",
   "execution_count": null,
   "metadata": {},
   "outputs": [],
   "source": [
    "def montage_v2(A, m, n):\n",
    "# by 李晏丞\n",
    "# 讀取所有圖片並串聯成montage\n",
    "    sz = np.sqrt(A.shape[0]).astype(\"int\")\n",
    "    M = np.zeros((sz*m, sz*n))\n",
    "\n",
    "    for i in range(m*n):\n",
    "        # 找出新舊矩陣的關係\n",
    "        row = (i // n) * sz # // 代表整數除法\n",
    "        col = (i % n) * sz # % 代表取餘數\n",
    "        M[row:row+sz, col:col+sz] = A[:, i].reshape(sz, sz)\n",
    "    return M"
   ]
  }
 ],
 "metadata": {
  "language_info": {
   "name": "python"
  }
 },
 "nbformat": 4,
 "nbformat_minor": 2
}
