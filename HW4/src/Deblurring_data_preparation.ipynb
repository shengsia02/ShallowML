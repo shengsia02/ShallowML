{
 "cells": [
  {
   "cell_type": "markdown",
   "id": "cb2d3153",
   "metadata": {},
   "source": [
    "<hr>\n",
    "\n",
    "<font color=skyblue>**Data preparations**</font>\n",
    "\n",
    "以下提供兩種模糊影像的處理方式，以做為訓練與驗證資料。分別為：\n",
    "- Data Processing 1: 將清晰之影像切成小圖（patch），再逐一進行高斯模糊化，並分別儲存清晰與模糊影像。即以小圖做為訓練資料。\n",
    "- Data Processing 2: 直接將原圖進行高斯模糊化，並儲存模糊影像。即以大圖做為訓練資料。\n",
    "\n",
    "<hr>"
   ]
  },
  {
   "cell_type": "markdown",
   "id": "7678e7c6",
   "metadata": {},
   "source": [
    "<font color=skyblue>套件宣告</font>"
   ]
  },
  {
   "cell_type": "code",
   "execution_count": 18,
   "id": "465fa5e0",
   "metadata": {},
   "outputs": [],
   "source": [
    "from PIL import Image\n",
    "from tqdm import tqdm\n",
    "\n",
    "import matplotlib.pyplot as plt\n",
    "import patchify\n",
    "import numpy as np\n",
    "import matplotlib.gridspec as gridspec\n",
    "import glob as glob\n",
    "import os\n",
    "import cv2\n",
    "import shutil"
   ]
  },
  {
   "cell_type": "markdown",
   "id": "2ecaca2a",
   "metadata": {},
   "source": [
    "<hr>\n",
    "\n",
    "<font color=skyblue>**Data Preprocessing 1**: Dataset Patch Creation and blurred patch creation</font>\n",
    "\n",
    "This script is used to create patches of size (33, 33, 3) from the images in the T91 dataset.\n",
    "The patches are saved in the following directories:\n",
    "- inputs/sharp_patches\n",
    "- inputs/blurred_patches\n",
    "\n",
    "<hr>"
   ]
  },
  {
   "cell_type": "markdown",
   "id": "75a1dac6",
   "metadata": {},
   "source": [
    "<font color=skyblue>常數宣告</font>"
   ]
  },
  {
   "cell_type": "code",
   "execution_count": 36,
   "id": "d41271de",
   "metadata": {},
   "outputs": [],
   "source": [
    "DIR_PATH = '../'\n",
    "SHOW_PATCHES = False\n",
    "STRIDE = 14 # Stride for the patches.\n",
    "SIZE = 35 # Size of the patches.\n",
    "GAUSSIAN_KERNEL_SIZE_PATCH = (7, 7) # Kernel size for Gaussian blur.\n",
    "SIGMAX = 0 # Sigma for Gaussian blur. 0 means it is calculated from the kernel size.\n"
   ]
  },
  {
   "cell_type": "markdown",
   "id": "c0b270f7",
   "metadata": {},
   "source": [
    "<font color=skyblue>副程式宣告</font>"
   ]
  },
  {
   "cell_type": "code",
   "execution_count": 33,
   "id": "3df21552",
   "metadata": {},
   "outputs": [],
   "source": [
    "def show_patches(patches):\n",
    "    \"\"\"\n",
    "    Function to plot the patches.\n",
    "    \"\"\"\n",
    "    plt.figure(figsize=(patches.shape[0], patches.shape[1]))\n",
    "    gs = gridspec.GridSpec(patches.shape[0], patches.shape[1])\n",
    "    gs.update(wspace=0.01, hspace=0.02)\n",
    "    counter = 0\n",
    "    for i in range(patches.shape[0]):\n",
    "        for j in range(patches.shape[1]):\n",
    "            ax = plt.subplot(gs[counter])\n",
    "            plt.imshow(patches[i, j, 0, :, :, :])\n",
    "            plt.axis('off')\n",
    "            counter += 1\n",
    "    plt.show()\n",
    "\n",
    "def create_patches(input_paths, out_sharp_path, out_blur_path):\n",
    "    '''\n",
    "    Function to create patches from the images in the input paths.\n",
    "    The patches are saved in the output paths.'''\n",
    "    \n",
    "    os.makedirs(out_sharp_path, exist_ok=True)\n",
    "    os.makedirs(out_blur_path, exist_ok=True)\n",
    "    all_paths = []\n",
    "\n",
    "    for input_path in input_paths:\n",
    "        all_paths.extend(glob.glob(f\"{input_path}/*\"))\n",
    "    print(f\"Creating patches for {len(all_paths)} images\")\n",
    "\n",
    "    for image_path in tqdm(all_paths, total=len(all_paths)):\n",
    "        image = Image.open(image_path)\n",
    "        image_name = image_path.split(os.path.sep)[-1].split('.')[0]\n",
    "        \n",
    "        patches = patchify.patchify(np.array(image), (SIZE, SIZE, 3), STRIDE)\n",
    "        if SHOW_PATCHES:\n",
    "            show_patches(patches)\n",
    "\n",
    "        # print(patches.shape)\n",
    "        counter = 0\n",
    "        for i in range(patches.shape[0]):\n",
    "            for j in range(patches.shape[1]):\n",
    "                counter += 1\n",
    "                patch = patches[i, j, 0, :, :, :]\n",
    "                patch = cv2.cvtColor(patch, cv2.COLOR_RGB2BGR)\n",
    "                cv2.imwrite(\n",
    "                    f\"{out_sharp_path}/{image_name}_{counter}.png\",\n",
    "                    patch\n",
    "                )\n",
    "                blur = cv2.GaussianBlur(patch, GAUSSIAN_KERNEL_SIZE_PATCH, sigmaX=SIGMAX)\n",
    "\n",
    "                cv2.imwrite(\n",
    "                    f\"{out_blur_path}/{image_name}_{counter}.png\",\n",
    "                    blur\n",
    "                )\n"
   ]
  },
  {
   "cell_type": "markdown",
   "id": "7259da34",
   "metadata": {},
   "source": [
    "自己寫的，有修改內容"
   ]
  },
  {
   "cell_type": "code",
   "execution_count": 37,
   "id": "dcee67a6",
   "metadata": {},
   "outputs": [],
   "source": [
    "def show_patches(patches):\n",
    "    \"\"\"\n",
    "    Function to plot the patches.\n",
    "    \"\"\"\n",
    "    plt.figure(figsize=(patches.shape[0], patches.shape[1]))\n",
    "    gs = gridspec.GridSpec(patches.shape[0], patches.shape[1])\n",
    "    gs.update(wspace=0.01, hspace=0.02)\n",
    "    counter = 0\n",
    "    for i in range(patches.shape[0]):\n",
    "        for j in range(patches.shape[1]):\n",
    "            ax = plt.subplot(gs[counter])\n",
    "            plt.imshow(patches[i, j, 0, :, :, :])\n",
    "            plt.axis('off')\n",
    "            counter += 1\n",
    "    plt.show()\n",
    "\n",
    "def create_patches(input_paths, out_sharp_path, out_blur_path):\n",
    "    '''\n",
    "    Function to create patches from the images in the input paths.\n",
    "    The patches are saved in the output paths.'''\n",
    "    \n",
    "    os.makedirs(out_sharp_path, exist_ok=True)\n",
    "    os.makedirs(out_blur_path, exist_ok=True)\n",
    "    all_paths = []\n",
    "\n",
    "    for input_path in input_paths:\n",
    "        all_paths.extend(glob.glob(f\"{input_path}/*\"))\n",
    "    print(f\"Creating patches for {len(all_paths)} images\")\n",
    "\n",
    "    for image_path in tqdm(all_paths, total=len(all_paths)):\n",
    "        image = Image.open(image_path)\n",
    "        image_name = image_path.split(os.path.sep)[-1].split('.')[0]\n",
    "        \n",
    "        patches = patchify.patchify(np.array(image), (SIZE, SIZE, 3), STRIDE)\n",
    "        if SHOW_PATCHES:\n",
    "            show_patches(patches)\n",
    "\n",
    "        # print(patches.shape)\n",
    "        counter = 0\n",
    "        for i in range(patches.shape[0]):\n",
    "            for j in range(patches.shape[1]):\n",
    "                counter += 1\n",
    "                patch = patches[i, j, 0, :, :, :]\n",
    "                patch = cv2.cvtColor(patch, cv2.COLOR_RGB2BGR)\n",
    "                cv2.imwrite(\n",
    "                    f\"{out_sharp_path}/{image_name}_{counter}.png\",\n",
    "                    patch\n",
    "                )\n",
    "                # Step 1: apply Gaussian blur\n",
    "                blur = cv2.GaussianBlur(patch, GAUSSIAN_KERNEL_SIZE_PATCH, sigmaX=SIGMAX)\n",
    "                # Step 2: resize to 1/3 size\n",
    "                height, width = blur.shape[:2]\n",
    "                small = cv2.resize(blur, (width // 3, height // 3), interpolation=cv2.INTER_AREA)\n",
    "                # Step 3: resize back to original size\n",
    "                restored = cv2.resize(small, (width, height), interpolation=cv2.INTER_LINEAR)\n",
    "\n",
    "                cv2.imwrite(\n",
    "                    f\"{out_blur_path}/{image_name}_{counter}.png\",\n",
    "                    restored\n",
    "                )\n"
   ]
  },
  {
   "cell_type": "markdown",
   "id": "3d1e400f",
   "metadata": {},
   "source": [
    "<font color=skyblue>執行圖像裁切</font>\n",
    "\n",
    "- 清晰小圖另存目錄，作為 labels\n",
    "- 模糊小圖另存目錄，作為 inputs"
   ]
  },
  {
   "cell_type": "code",
   "execution_count": 38,
   "id": "cbf5d8ed",
   "metadata": {},
   "outputs": [
    {
     "name": "stdout",
     "output_type": "stream",
     "text": [
      "Removed existing folder: ../inputs/T91_sharp_patches\n",
      "Removed existing folder: ../inputs/T91_blurred_patches\n",
      "Creating patches for 91 images\n"
     ]
    },
    {
     "name": "stderr",
     "output_type": "stream",
     "text": [
      "100%|██████████| 91/91 [00:40<00:00,  2.27it/s]"
     ]
    },
    {
     "name": "stdout",
     "output_type": "stream",
     "text": [
      "DONE\n"
     ]
    },
    {
     "name": "stderr",
     "output_type": "stream",
     "text": [
      "\n"
     ]
    }
   ],
   "source": [
    "input_paths =  [f\"{DIR_PATH}inputs/T91/\"]\n",
    "outputs_sharp_path = DIR_PATH + \"inputs/T91_sharp_patches\"\n",
    "outputs_blur_path = DIR_PATH + \"inputs/T91_blurred_patches\"\n",
    "\n",
    "# Check and remove if folders exist\n",
    "if os.path.exists(outputs_sharp_path):\n",
    "    shutil.rmtree(outputs_sharp_path)\n",
    "    print(f\"Removed existing folder: {outputs_sharp_path}\")\n",
    "\n",
    "if os.path.exists(outputs_blur_path):\n",
    "    shutil.rmtree(outputs_blur_path)\n",
    "    print(f\"Removed existing folder: {outputs_blur_path}\")\n",
    "\n",
    "# input_paths =  [f\"{DIR_PATH}inputs/T30/\"]\n",
    "# outputs_sharp_path = DIR_PATH + \"inputs/T30_sharp_patches\"\n",
    "# outputs_blur_path = DIR_PATH + \"inputs/T30_blurred_patches\"\n",
    "\n",
    "create_patches(input_paths, outputs_sharp_path, outputs_blur_path)\n",
    "print('DONE')"
   ]
  },
  {
   "cell_type": "markdown",
   "id": "3b6e8a63",
   "metadata": {},
   "source": [
    "自己修改的部分：\n",
    "\n",
    "SIZE = 64 # Size of the patches. \\\n",
    "GAUSSIAN_KERNEL_SIZE_PATCH = (5, 5) # Kernel size for Gaussian blur. \\\n",
    "SIGMAX = 0 # Sigma for Gaussian blur. 0 means it is calculated from the kernel size.\n",
    "\n",
    "這部分是老師說的縮小 1/3 再放大 1/3 的部分\n",
    "\\# Step 2: resize to 1/3 size \\\n",
    "height, width = blur.shape[:2] \\\n",
    "small = cv2.resize(blur, (width // 3, height // 3), interpolation=cv2.INTER_AREA) \\\n",
    "\\# Step 3: resize back to original size \\\n",
    "restored = cv2.resize(small, (width, height), interpolation=cv2.INTER_LINEAR)"
   ]
  },
  {
   "cell_type": "markdown",
   "id": "41fb3530",
   "metadata": {},
   "source": [
    "<hr>\n",
    "\n",
    "<font color=skyblue>**Data Preprocessing 2**: Prepare blurred images by adding Gaussian blurring to the original (sharp) images</font>\n",
    "\n",
    "- sharp images : 可以來自 T91, General100, Kaggle_sharp_350\n",
    "- blurring images : gaussian_blurred，可以使用單一的模糊程度或混合不同模糊程度\n",
    "- 保留原影像大小\n",
    "\n",
    "<hr>\n"
   ]
  },
  {
   "cell_type": "markdown",
   "id": "9a887ecb",
   "metadata": {},
   "source": [
    "<font color=skyblue>常數宣告</font>"
   ]
  },
  {
   "cell_type": "code",
   "execution_count": 5,
   "id": "ff251213",
   "metadata": {},
   "outputs": [],
   "source": [
    "DIR_PATH = '../'\n",
    "GAUSSIAN_KERNEL_SIZE_ORIGINAL = (31, 31)\n",
    "SIGMAX = 0 # Sigma for Gaussian blur. 0 means it is calculated from the kernel size."
   ]
  },
  {
   "cell_type": "markdown",
   "id": "1f5b36bc",
   "metadata": {},
   "source": [
    "<font color=skyblue>執行圖像高斯模糊化</font>\n",
    "\n",
    "- 保留輸入圖像目錄作為清晰圖（sharp, labels）\n",
    "- 輸出目錄為模糊圖（blurred）\n",
    "- 輸出圖像大小與輸入圖像大小相同"
   ]
  },
  {
   "cell_type": "code",
   "execution_count": 6,
   "id": "6a45599e",
   "metadata": {},
   "outputs": [
    {
     "name": "stderr",
     "output_type": "stream",
     "text": [
      "100%|██████████| 100/100 [00:01<00:00, 59.36it/s]"
     ]
    },
    {
     "name": "stdout",
     "output_type": "stream",
     "text": [
      "DONE\n"
     ]
    },
    {
     "name": "stderr",
     "output_type": "stream",
     "text": [
      "\n"
     ]
    }
   ],
   "source": [
    "src_dir = DIR_PATH+'inputs/General100'\n",
    "images = os.listdir(src_dir)\n",
    "dst_dir = DIR_PATH+'inputs/gaussian_blurred'\n",
    "os.makedirs(dst_dir, exist_ok=True)\n",
    "\n",
    "for i, img in tqdm(enumerate(images), total=len(images)):\n",
    "    img = cv2.imread(f\"{src_dir}/{images[i]}\", cv2.IMREAD_COLOR)\n",
    "    # add gaussian blurring\n",
    "    # blur = cv2.GaussianBlur(img, (5, 5), 0)  # Mild blur\n",
    "    # blur = cv2.GaussianBlur(img, (15, 15), 5)  # Stronger blur\n",
    "\n",
    "    blur = cv2.GaussianBlur(img, GAUSSIAN_KERNEL_SIZE_ORIGINAL, sigmaX=SIGMAX)\n",
    "    cv2.imwrite(f\"{dst_dir}/{images[i]}\", blur)\n",
    "\n",
    "print('DONE')"
   ]
  }
 ],
 "metadata": {
  "kernelspec": {
   "display_name": "ShallowML",
   "language": "python",
   "name": "python3"
  },
  "language_info": {
   "codemirror_mode": {
    "name": "ipython",
    "version": 3
   },
   "file_extension": ".py",
   "mimetype": "text/x-python",
   "name": "python",
   "nbconvert_exporter": "python",
   "pygments_lexer": "ipython3",
   "version": "3.11.3"
  }
 },
 "nbformat": 4,
 "nbformat_minor": 5
}
